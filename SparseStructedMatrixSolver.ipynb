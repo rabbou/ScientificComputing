{
 "cells": [
  {
   "cell_type": "markdown",
   "metadata": {},
   "source": [
    "### Ruben Abbou\n",
    "## A Sparse Structured Matrix Class\n",
    "This project contains a data structure which holds tridiagonal matrices with an edge such as\n",
    "$$C = \\begin{bmatrix} d_0 & b_0 & 0 & 0 & e_0 \\\\\n",
    "a_0 & d_1 & b_1 & 0 & e_1 \\\\\n",
    "0 & a_1 & d_2 & b_2 & e_2 \\\\\n",
    "0 & 0 & a_2 & d_3 & b_3 \\\\\n",
    "0 & 0 & 0 & a_3 & d_4\\end{bmatrix}.$$\n",
    "As well as a solver for equations of the form $C\\vec{x} = \\vec{r}$. The solver is an improved version of Gaussian Elimination for this specific problem and has $8n$ complexity."
   ]
  },
  {
   "cell_type": "code",
   "execution_count": 1,
   "metadata": {},
   "outputs": [],
   "source": [
    "import time\n",
    "from numpy import array, zeros, sin, mean"
   ]
  },
  {
   "cell_type": "code",
   "execution_count": 2,
   "metadata": {},
   "outputs": [],
   "source": [
    "class Edge_Tridiag:\n",
    "    '''\n",
    "    Object type to represent square edge-tridiagonal matrices.\n",
    "    Contains a multiplication and copying methods as well as a printing routine,\n",
    "    which does not take up memory.\n",
    "    '''\n",
    "    def __init__(self, d, a, b, e):\n",
    "        self.d = d\n",
    "        self.a = a\n",
    "        self.b = b\n",
    "        self.e = e\n",
    "        self.n = len(d)\n",
    "        \n",
    "        # Check array dimensions\n",
    "        assert len(self.a) == self.n-1\n",
    "        assert len(self.b) == self.n-1\n",
    "        assert len(self.e) == self.n-2\n",
    "\n",
    "    def multiply(self, x):\n",
    "        assert self.n == len(x)\n",
    "        out = zeros(self.n)\n",
    "        for i in range(self.n):\n",
    "            if i-1 >= 0:\n",
    "                out[i] += self.b[i-1]*x[i-1]\n",
    "            if i+1 < self.n:\n",
    "                out[i] += self.a[i]*x[i+1]\n",
    "            if i < self.n - 2:\n",
    "                out[i] += self.e[i]*x[-1]\n",
    "            out[i] += self.d[i]*x[i]\n",
    "        return array(out).reshape(-1,1)\n",
    "    \n",
    "    def copy(self):\n",
    "        return Edge_Tridiag(array(self.d), array(self.a),\n",
    "                            array(self.b), array(self.e))\n",
    "    \n",
    "    def __str__(self):\n",
    "        out = '['\n",
    "        for i in range(self.n):\n",
    "            if i != 0: out += ' '\n",
    "            out += '['\n",
    "            for j in range(self.n):\n",
    "                if abs(i-j) > 1:\n",
    "                    if j == self.n-1 and i < self.n-2:\n",
    "                        out += \"{:.2f}\".format(self.e[i])\n",
    "                    else:\n",
    "                        out += '0   '\n",
    "                elif j == i: out += \"{:.2f}\".format(self.d[i])\n",
    "                elif i == j-1: out += \"{:.2f}\".format(self.a[i])\n",
    "                elif j == i-1: out += \"{:.2f}\".format(self.b[j])\n",
    "                else: print(i, j, abs(i-j))\n",
    "                if j < self.n - 1: out += ' '\n",
    "            out += ']'\n",
    "            if i != self.n-1 : out += '\\n'\n",
    "        return out + ']'"
   ]
  },
  {
   "cell_type": "code",
   "execution_count": 3,
   "metadata": {},
   "outputs": [],
   "source": [
    "def forward_elim(C, r):\n",
    "    A = C.copy()\n",
    "    x = array(r)\n",
    "    \n",
    "    # Normalize\n",
    "    A.a[0] /= A.d[0]\n",
    "    A.e[0] /= A.d[0]\n",
    "    x[0] /= A.d[0]\n",
    "    A.d[0] = 1\n",
    "    \n",
    "    for i in range(1, A.n):\n",
    "        A.d[i] -= A.b[i-1] * A.a[i-1]\n",
    "        if i < A.n-2:\n",
    "            A.e[i] -= A.b[i-1] * A.e[i-1]\n",
    "            A.e[i] /= A.d[i] # normalize\n",
    "            \n",
    "        if i == A.n-2:\n",
    "            A.a[i] -= A.b[i-1] * A.e[i-1]\n",
    "\n",
    "        x[i] -= A.b[i-1] * x[i-1]\n",
    "        \n",
    "        # normalize\n",
    "        x[i] /= A.d[i]\n",
    "        if i < A.n-1:\n",
    "            A.a[i] /= A.d[i]\n",
    "        A.d[i] = 1\n",
    "    return A, x\n",
    "\n",
    "def back_substitution(C, r):\n",
    "    x = zeros((C.n, 1))\n",
    "    x[-1] = r[-1]\n",
    "\n",
    "    for i in range(C.n-2, -1, -1):\n",
    "        x[i] = r[i] - C.a[i] * x[i+1]\n",
    "        if i < C.n-2:\n",
    "            x[i] -= C.e[i] * x[-1]\n",
    "    return x\n",
    "\n",
    "def gauss_e_t_solve(C, r):\n",
    "    '''\n",
    "    Gaussian elimination algorithm to solve Cx=r tridiagonal matrices\n",
    "    Inputs:\n",
    "        - C: Edge_Tridiag object\n",
    "        - r: array\n",
    "    Outputs:\n",
    "        - y: solution vector\n",
    "    '''\n",
    "    if len(r) != C.n:\n",
    "        raise NameError('dimensions do not match')\n",
    "    if any(C.d == 0):\n",
    "        raise NameError('cannot have zeros along the diagonal')\n",
    "    \n",
    "    C, r = forward_elim(C, r)\n",
    "    x = back_substitution(C, r)\n",
    "    return x"
   ]
  },
  {
   "cell_type": "code",
   "execution_count": 4,
   "metadata": {},
   "outputs": [
    {
     "name": "stdout",
     "output_type": "stream",
     "text": [
      "r = \n",
      "[[11.  ]\n",
      " [16.97]\n",
      " [23.18]\n",
      " [25.44]\n",
      " [25.6 ]]\n",
      "\n",
      "Gaussian Elimination solution for x: \n",
      "[[1.]\n",
      " [2.]\n",
      " [3.]\n",
      " [4.]\n",
      " [5.]]\n",
      "\n",
      "If solution is right, x should be equal to y:\n",
      "100.00%\n"
     ]
    }
   ],
   "source": [
    "n = 5\n",
    "d = array([4 + 0.1 * k for k in range(n)])\n",
    "a = array([1 + 0.01 * k**2 for k in range(n-1)])\n",
    "b = array([1 - 0.01 - 0.03 * k for k in range(n-1)])\n",
    "e = array([1 - 0.05 * k for k in range(n-2)])\n",
    "C = Edge_Tridiag(d, a, b, e)\n",
    "y = array([i for i in range(1, n+1)]).reshape(-1,1)\n",
    "r = C.multiply(y)\n",
    "print('r = ')\n",
    "print(r)\n",
    "\n",
    "x = gauss_e_t_solve(C, r)\n",
    "print('\\nGaussian Elimination solution for x: ')\n",
    "print(x)\n",
    "\n",
    "print('\\nIf solution is right, x should be equal to y:')\n",
    "print('{:.2f}%'.format(mean(abs(x-y)<1e-12)*100))"
   ]
  },
  {
   "cell_type": "code",
   "execution_count": 5,
   "metadata": {},
   "outputs": [
    {
     "name": "stdout",
     "output_type": "stream",
     "text": [
      "\n",
      "If solution is right, x should be equal to y:\n",
      "100.00%\n",
      "\n",
      "time to run Gaussian Elimination: 00 min 01.64 sec\n"
     ]
    }
   ],
   "source": [
    "start = time.time()\n",
    "n2 = 40000\n",
    "d2 = array([4+0.1*sin(i/1000) for i in range(n2)])\n",
    "a2 = array([0.2*sin(i/2000) for i in range(n2-1)])\n",
    "b2 = array([0.3*sin(i/3000) for i in range(n2-1)])\n",
    "e2 = array([0.4*sin(i/4000) for i in range(n2-2)])\n",
    "C2 = Edge_Tridiag(d2, a2, b2, e2)\n",
    "y2 = array([i for i in range(1, n2+1)]).reshape(-1,1)\n",
    "r2 = C2.multiply(y2)\n",
    "x2 = gauss_e_t_solve(C2, r2)\n",
    "\n",
    "print('\\nIf solution is right, x should be equal to y:')\n",
    "print('{:.2f}%'.format(mean(abs(x2-y2) < 1e-10)*100))\n",
    "\n",
    "end = time.time()\n",
    "hours, rem = divmod(end-start, 3600)\n",
    "minutes, seconds = divmod(rem, 60)\n",
    "print(\"\\ntime to run Gaussian Elimination: {:0>2} min {:05.2f} sec\".format(int(minutes),seconds))"
   ]
  },
  {
   "cell_type": "markdown",
   "metadata": {},
   "source": [
    "As desired, $x=y$."
   ]
  }
 ],
 "metadata": {
  "kernelspec": {
   "display_name": "Python 3",
   "language": "python",
   "name": "python3"
  },
  "language_info": {
   "codemirror_mode": {
    "name": "ipython",
    "version": 3
   },
   "file_extension": ".py",
   "mimetype": "text/x-python",
   "name": "python",
   "nbconvert_exporter": "python",
   "pygments_lexer": "ipython3",
   "version": "3.8.0"
  }
 },
 "nbformat": 4,
 "nbformat_minor": 2
}
