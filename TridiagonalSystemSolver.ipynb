{
 "cells": [
  {
   "cell_type": "markdown",
   "metadata": {},
   "source": [
    "### Ruben Abbou\n",
    "## Tridiagonal System Solver\n",
    "This project includes a data structure for square tridiagonal matrices and a solver for systems of tridiagonal equations."
   ]
  },
  {
   "cell_type": "code",
   "execution_count": 1,
   "metadata": {},
   "outputs": [],
   "source": [
    "from numpy import array, zeros"
   ]
  },
  {
   "cell_type": "code",
   "execution_count": 2,
   "metadata": {},
   "outputs": [],
   "source": [
    "class Tridiag:\n",
    "    '''\n",
    "    Object type to represent tridiagonal matrices.\n",
    "    Contains a multiplication and copying methods as well as a printing routine,\n",
    "    which does not take up memory.\n",
    "    '''\n",
    "    def __init__(self, d, a, b):\n",
    "        self.d = d\n",
    "        self.a = a\n",
    "        self.b = b\n",
    "        self.n = len(d)\n",
    "        assert len(self.a) == self.n-1\n",
    "        assert len(self.b) == self.n-1\n",
    "\n",
    "    def multiply(self, x):\n",
    "        assert self.n == len(x)\n",
    "        out = zeros(self.n)\n",
    "        for i in range(self.n):\n",
    "            if i-1 >= 0:\n",
    "                out[i] += self.b[i-1]*x[i-1]\n",
    "            if i+1 < self.n:\n",
    "                out[i] += self.a[i]*x[i+1]\n",
    "            out[i] += self.d[i]*x[i]\n",
    "        return array(out)\n",
    "    \n",
    "    def copy(self):\n",
    "        return Tridiag(array(self.d), array(self.a), array(self.b))\n",
    "    \n",
    "    def __str__(self):\n",
    "        out = '['\n",
    "        for i in range(self.n):\n",
    "            if i != 0: out += ' '\n",
    "            out += '['\n",
    "            for j in range(self.n):\n",
    "                if abs(i-j) > 1: out += '0   '\n",
    "                elif j == i: out += \"{:.2f}\".format(self.d[i])\n",
    "                elif i == j-1: out += \"{:.2f}\".format(self.a[i])\n",
    "                elif j == i-1: out += \"{:.2f}\".format(self.b[j])\n",
    "                else: print(i, j, abs(i-j))\n",
    "                if j < self.n - 1: out += ' '\n",
    "            out += ']'\n",
    "            if i != self.n-1 : out += '\\n'\n",
    "        return out + ']'"
   ]
  },
  {
   "cell_type": "code",
   "execution_count": 3,
   "metadata": {},
   "outputs": [],
   "source": [
    "def forward_elim(C, r):\n",
    "    A = C.copy()\n",
    "    x = array(r)\n",
    "    for i in range(1, A.n):\n",
    "        factor = A.b[i-1] / A.d[i-1]\n",
    "        A.d[i] -= factor * A.a[i-1]\n",
    "        A.b[i-1] = 0\n",
    "        x[i] -= factor * x[i-1]\n",
    "    return A, x\n",
    "\n",
    "def back_substitution(C, r):\n",
    "    x = zeros(C.n)\n",
    "    x[C.n-1] = r[C.n-1] / C.d[C.n-1]\n",
    "\n",
    "    for i in range(C.n-2, -1, -1):\n",
    "        x[i] = (r[i] - C.a[i] * x[i+1]) / C.d[i]\n",
    "    return x\n",
    "\n",
    "def gauss_tridiag_solve(C, r):\n",
    "    '''\n",
    "    Gaussian elimination algorithm to solve Cx=r tridiagonal matrices\n",
    "    Inputs:\n",
    "        - C: Tridiag object\n",
    "        - r: array\n",
    "    Outputs:\n",
    "        - y: solution vector\n",
    "    '''\n",
    "    if len(r) != C.n:\n",
    "        raise NameError('dimensions do not match')\n",
    "    if any(C.d == 0):\n",
    "        raise NameError('cannot have zeros along the diagonal')\n",
    "    \n",
    "    C, r = forward_elim(C, r)\n",
    "    x = back_substitution(C, r)\n",
    "    return x"
   ]
  },
  {
   "cell_type": "code",
   "execution_count": 4,
   "metadata": {},
   "outputs": [
    {
     "name": "stdout",
     "output_type": "stream",
     "text": [
      "[[4.00 1.00 0    0    0   ]\n",
      " [0.99 4.10 1.01 0    0   ]\n",
      " [0    0.96 4.20 1.04 0   ]\n",
      " [0    0    0.93 4.30 1.09]\n",
      " [0    0    0    0.90 4.40]]\n"
     ]
    }
   ],
   "source": [
    "n = 5\n",
    "d = array([4 + 0.1 * k for k in range(n)])\n",
    "a = array([1 + 0.01 * k**2 for k in range(n-1)])\n",
    "b = array([1 - 0.01 - 0.03 * k for k in range(n-1)])\n",
    "C = Tridiag(d, a, b)\n",
    "print(C)"
   ]
  },
  {
   "cell_type": "code",
   "execution_count": 5,
   "metadata": {},
   "outputs": [
    {
     "name": "stdout",
     "output_type": "stream",
     "text": [
      "[ True  True  True  True  True]\n"
     ]
    }
   ],
   "source": [
    "y = array((1., 2., 3., 4., 5.))\n",
    "r = C.multiply(y)\n",
    "\n",
    "print(gauss_tridiag_solve(C, r) - y < 1e-12)"
   ]
  },
  {
   "cell_type": "markdown",
   "metadata": {},
   "source": [
    "As desired, $x=y$."
   ]
  },
  {
   "cell_type": "code",
   "execution_count": 6,
   "metadata": {},
   "outputs": [
    {
     "name": "stdout",
     "output_type": "stream",
     "text": [
      "[[4.00 1.00 0    0    0   ]\n",
      " [0.99 4.10 1.01 0    0   ]\n",
      " [0    0.96 4.20 1.04 0   ]\n",
      " [0    0    0.93 4.30 1.09]\n",
      " [0    0    0    0.90 4.40]]\n"
     ]
    }
   ],
   "source": [
    "print(C)"
   ]
  }
 ],
 "metadata": {
  "kernelspec": {
   "display_name": "Python 3",
   "language": "python",
   "name": "python3"
  },
  "language_info": {
   "codemirror_mode": {
    "name": "ipython",
    "version": 3
   },
   "file_extension": ".py",
   "mimetype": "text/x-python",
   "name": "python",
   "nbconvert_exporter": "python",
   "pygments_lexer": "ipython3",
   "version": "3.8.0"
  }
 },
 "nbformat": 4,
 "nbformat_minor": 2
}
