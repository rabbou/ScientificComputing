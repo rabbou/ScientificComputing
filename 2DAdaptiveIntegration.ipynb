{
 "cells": [
  {
   "cell_type": "markdown",
   "metadata": {},
   "source": [
    "## Ruben Abbou\n",
    "### Adaptive Integration in Two Dimensions\n",
    "Approximation of integrals of real-valued functions $f(x,y)$ over a rectangle $[x_1, x_2]\\times[y_1, y_2]$. The integrals are approximated by the two-dimensional version of the midpoint rule:\n",
    "\n",
    "$$\\int_{x_1}^{x_2}\\int_{y_1}^{y_2}f(x,y)dxdy = f(x_m, y_m)(x_2-x_1)(y_2-y_1)$$\n",
    "\n",
    "where $x_m = \\frac{x_1+x_2}{2}, y_m = \\frac{y_1+y_2}{2}$."
   ]
  },
  {
   "cell_type": "code",
   "execution_count": 1,
   "metadata": {},
   "outputs": [],
   "source": [
    "from numpy import array, zeros\n",
    "from math import factorial as fact\n",
    "from pandas import DataFrame\n",
    "import matplotlib.pyplot as plt\n",
    "from matplotlib.patches import Rectangle"
   ]
  },
  {
   "cell_type": "code",
   "execution_count": 2,
   "metadata": {},
   "outputs": [],
   "source": [
    "def mid_point(f, rect):\n",
    "    '''\n",
    "    Midpoint rule approximation for f on a given rectangle\n",
    "    Inputs:\n",
    "        - f: function which integral we want to approximate\n",
    "        - rec: rectangle on which we want to approximate this integral\n",
    "    Output: mid point rule approximation\n",
    "    '''\n",
    "    x1, x2, y1, y2 = rect\n",
    "    return f((x1 + x2) / 2, (y1 + y2) / 2) * (x2 - x1) * (y2 - y1)\n",
    "\n",
    "def twoD_adapt_int(f, rect, TOL, level=0, minLevel = 3, maxLevel = 30):\n",
    "    '''\n",
    "    2D Adaptive Integration of a function with recursive scheme\n",
    "    Inputs:\n",
    "        - f: function which integral we want to approximate\n",
    "        - rec: rectangle on which we want to approximate this integral\n",
    "        - TOL: approximation tolerance\n",
    "        - level: recursion level\n",
    "    Outputs:\n",
    "        - F_approx: approximation of the integral of f\n",
    "        - hist: list of rectangles used throughout the approximation\n",
    "    '''\n",
    "    assert level <= maxLevel\n",
    "    x1, x2, y1, y2 = rect\n",
    "    assert x2 > x1 and y2 > y1\n",
    "    hist = [rect] # add to history since adaptive function is called on this rectangle\n",
    "    \n",
    "    xm = (x1 + x2) / 2\n",
    "    ym = (y1 + y2) / 2\n",
    "    \n",
    "    # Calculate approximation\n",
    "    F_coarse = mid_point(f, rect)\n",
    "    rectangles = [(x1, xm, y1, ym), (xm, x2, y1, ym), (x1, xm, ym, y2), (xm, x2, ym, y2)]\n",
    "    F_fine = sum([mid_point(f, rect) for rect in rectangles])\n",
    "    \n",
    "    if abs(F_coarse - F_fine) <= TOL and level >= minLevel or level == maxLevel:\n",
    "        # good approximation\n",
    "        return (4 * F_fine - F_coarse) / 3, hist\n",
    "    else:\n",
    "        # recursion\n",
    "        F_approx = 0\n",
    "        for r in rectangles:\n",
    "            F_rec, h_rec = twoD_adapt_int(f, r, TOL/4, level+1, minLevel, maxLevel)\n",
    "            F_approx += F_rec\n",
    "            hist += h_rec\n",
    "        return F_approx, hist"
   ]
  },
  {
   "cell_type": "markdown",
   "metadata": {},
   "source": [
    "### Polynomials $f(x, y) = x^iy^j$ on $[0,1]\\times[0,1]$ for $i, j = 0, 1, 2, 3, 4$\n",
    "\n",
    "The true solution for these integrals is:\n",
    "\n",
    "\\begin{align*}\n",
    "\\int_{0}^{1}\\int_{0}^{1}x^iy^jdxdy &= \\int_{0}^{1} y^j \\cdot \\left[\\frac{x^{i+1}}{i+1}\\right]_0^1dy \\\\\n",
    "&= \\frac{1-0}{i+1} \\cdot \\left[\\frac{y^{i+1}}{i+1}\\right]_0^1\\\\\n",
    "&= \\frac{1}{(i+1)(j+1)}\n",
    "\\end{align*}\n",
    "\n",
    "since $i+1, j+1 > 0$ for $i, j \\ge 0$."
   ]
  },
  {
   "cell_type": "code",
   "execution_count": 3,
   "metadata": {},
   "outputs": [],
   "source": [
    "results = zeros((5,5))\n",
    "exact = zeros((5,5))\n",
    "for i in range(5):\n",
    "    for j in range(5):\n",
    "        f = lambda x, y: x**i * y**j\n",
    "        tol = 0.01/(fact(i+1)*fact(j+1))\n",
    "        results[i,j] = twoD_adapt_int(f, (0,1,0,1), tol)[0]\n",
    "        exact[i,j] = 1/((i+1)*(j+1))\n",
    "        \n",
    "error = DataFrame(abs(results - exact), columns=[str(i) for i in range(5)],\n",
    "                       index = [str(i) for i in range(5)])"
   ]
  },
  {
   "cell_type": "markdown",
   "metadata": {},
   "source": [
    "The errors in the approximations for each combination of degrees $i, j$ are:"
   ]
  },
  {
   "cell_type": "code",
   "execution_count": 4,
   "metadata": {
    "scrolled": true
   },
   "outputs": [
    {
     "data": {
      "text/html": [
       "<div>\n",
       "<style scoped>\n",
       "    .dataframe tbody tr th:only-of-type {\n",
       "        vertical-align: middle;\n",
       "    }\n",
       "\n",
       "    .dataframe tbody tr th {\n",
       "        vertical-align: top;\n",
       "    }\n",
       "\n",
       "    .dataframe thead th {\n",
       "        text-align: right;\n",
       "    }\n",
       "</style>\n",
       "<table border=\"1\" class=\"dataframe\">\n",
       "  <thead>\n",
       "    <tr style=\"text-align: right;\">\n",
       "      <th></th>\n",
       "      <th>0</th>\n",
       "      <th>1</th>\n",
       "      <th>2</th>\n",
       "      <th>3</th>\n",
       "      <th>4</th>\n",
       "    </tr>\n",
       "  </thead>\n",
       "  <tbody>\n",
       "    <tr>\n",
       "      <th>0</th>\n",
       "      <td>0.000000e+00</td>\n",
       "      <td>0.000000e+00</td>\n",
       "      <td>5.551115e-17</td>\n",
       "      <td>0.000000e+00</td>\n",
       "      <td>2.381647e-07</td>\n",
       "    </tr>\n",
       "    <tr>\n",
       "      <th>1</th>\n",
       "      <td>0.000000e+00</td>\n",
       "      <td>0.000000e+00</td>\n",
       "      <td>2.775558e-17</td>\n",
       "      <td>0.000000e+00</td>\n",
       "      <td>1.260999e-07</td>\n",
       "    </tr>\n",
       "    <tr>\n",
       "      <th>2</th>\n",
       "      <td>5.551115e-17</td>\n",
       "      <td>2.775558e-17</td>\n",
       "      <td>1.037131e-07</td>\n",
       "      <td>3.580471e-08</td>\n",
       "      <td>4.534319e-08</td>\n",
       "    </tr>\n",
       "    <tr>\n",
       "      <th>3</th>\n",
       "      <td>0.000000e+00</td>\n",
       "      <td>0.000000e+00</td>\n",
       "      <td>3.580471e-08</td>\n",
       "      <td>1.136896e-08</td>\n",
       "      <td>8.426341e-09</td>\n",
       "    </tr>\n",
       "    <tr>\n",
       "      <th>4</th>\n",
       "      <td>2.381647e-07</td>\n",
       "      <td>1.260999e-07</td>\n",
       "      <td>4.534319e-08</td>\n",
       "      <td>8.426341e-09</td>\n",
       "      <td>2.614076e-09</td>\n",
       "    </tr>\n",
       "  </tbody>\n",
       "</table>\n",
       "</div>"
      ],
      "text/plain": [
       "              0             1             2             3             4\n",
       "0  0.000000e+00  0.000000e+00  5.551115e-17  0.000000e+00  2.381647e-07\n",
       "1  0.000000e+00  0.000000e+00  2.775558e-17  0.000000e+00  1.260999e-07\n",
       "2  5.551115e-17  2.775558e-17  1.037131e-07  3.580471e-08  4.534319e-08\n",
       "3  0.000000e+00  0.000000e+00  3.580471e-08  1.136896e-08  8.426341e-09\n",
       "4  2.381647e-07  1.260999e-07  4.534319e-08  8.426341e-09  2.614076e-09"
      ]
     },
     "execution_count": 4,
     "metadata": {},
     "output_type": "execute_result"
    }
   ],
   "source": [
    "error"
   ]
  },
  {
   "cell_type": "markdown",
   "metadata": {},
   "source": [
    "Let's check which of these polynomials are integrated exactly and have error 0 (python has an arithmetic error of about $10^{-12}$):"
   ]
  },
  {
   "cell_type": "code",
   "execution_count": 5,
   "metadata": {},
   "outputs": [
    {
     "data": {
      "text/html": [
       "<div>\n",
       "<style scoped>\n",
       "    .dataframe tbody tr th:only-of-type {\n",
       "        vertical-align: middle;\n",
       "    }\n",
       "\n",
       "    .dataframe tbody tr th {\n",
       "        vertical-align: top;\n",
       "    }\n",
       "\n",
       "    .dataframe thead th {\n",
       "        text-align: right;\n",
       "    }\n",
       "</style>\n",
       "<table border=\"1\" class=\"dataframe\">\n",
       "  <thead>\n",
       "    <tr style=\"text-align: right;\">\n",
       "      <th></th>\n",
       "      <th>0</th>\n",
       "      <th>1</th>\n",
       "      <th>2</th>\n",
       "      <th>3</th>\n",
       "      <th>4</th>\n",
       "    </tr>\n",
       "  </thead>\n",
       "  <tbody>\n",
       "    <tr>\n",
       "      <th>0</th>\n",
       "      <td>True</td>\n",
       "      <td>True</td>\n",
       "      <td>True</td>\n",
       "      <td>True</td>\n",
       "      <td>False</td>\n",
       "    </tr>\n",
       "    <tr>\n",
       "      <th>1</th>\n",
       "      <td>True</td>\n",
       "      <td>True</td>\n",
       "      <td>True</td>\n",
       "      <td>True</td>\n",
       "      <td>False</td>\n",
       "    </tr>\n",
       "    <tr>\n",
       "      <th>2</th>\n",
       "      <td>True</td>\n",
       "      <td>True</td>\n",
       "      <td>False</td>\n",
       "      <td>False</td>\n",
       "      <td>False</td>\n",
       "    </tr>\n",
       "    <tr>\n",
       "      <th>3</th>\n",
       "      <td>True</td>\n",
       "      <td>True</td>\n",
       "      <td>False</td>\n",
       "      <td>False</td>\n",
       "      <td>False</td>\n",
       "    </tr>\n",
       "    <tr>\n",
       "      <th>4</th>\n",
       "      <td>False</td>\n",
       "      <td>False</td>\n",
       "      <td>False</td>\n",
       "      <td>False</td>\n",
       "      <td>False</td>\n",
       "    </tr>\n",
       "  </tbody>\n",
       "</table>\n",
       "</div>"
      ],
      "text/plain": [
       "       0      1      2      3      4\n",
       "0   True   True   True   True  False\n",
       "1   True   True   True   True  False\n",
       "2   True   True  False  False  False\n",
       "3   True   True  False  False  False\n",
       "4  False  False  False  False  False"
      ]
     },
     "execution_count": 5,
     "metadata": {},
     "output_type": "execute_result"
    }
   ],
   "source": [
    "error < 1e-12"
   ]
  },
  {
   "cell_type": "markdown",
   "metadata": {},
   "source": [
    "As expected, the mid-point rule is exact for polynomials that are of separate degree at most one ($x^0y^0, x^0y^1, x^1y^0, x^1y^1$). Additionally, we observe an exact solution for the following polynomials: $y^2, y^3, xy^2, xy^3, x^2, x^3, yx^2, yx^3$. This is due to the fact that if one of the two variables is of degree at most one, then the mid-point rule will integrate the remaining factor exactly if its degree is at most 3."
   ]
  },
  {
   "cell_type": "markdown",
   "metadata": {},
   "source": [
    "### Unit Circle\n",
    "$$\\text{ Integrate }\\quad f(x, y) = \\begin{cases} 1 &\\text{ if }\\ x^2+y^2 < 1 \\\\ 0 &\\text{ otherwise } \\end{cases}\\quad \\text{ over the square } \\quad [-1,1]\\times[-1,1]$$"
   ]
  },
  {
   "cell_type": "code",
   "execution_count": 6,
   "metadata": {},
   "outputs": [],
   "source": [
    "f = lambda x, y: 1 if x**2 + y**2 < 1 else 0\n",
    "F_app, history = twoD_adapt_int(f, (-1,1,-1,1), .001, maxLevel = 10)"
   ]
  },
  {
   "cell_type": "code",
   "execution_count": 7,
   "metadata": {},
   "outputs": [
    {
     "data": {
      "image/png": "[encoded data removed]",
      "text/plain": [
       "<Figure size 720x720 with 1 Axes>"
      ]
     },
     "metadata": {
      "needs_background": "light"
     },
     "output_type": "display_data"
    }
   ],
   "source": [
    "fig,ax = plt.subplots(1, figsize=(10,10))\n",
    "for rect in history:\n",
    "    ax.add_patch(Rectangle((rect[0], rect[2]), fill=False,\n",
    "                            width=rect[1]-rect[0], height=rect[3]-rect[2]))\n",
    "plt.xlim(-1,1)\n",
    "plt.ylim(-1,1)\n",
    "plt.xlabel(r'$x$', size=15)\n",
    "plt.ylabel(r'$y$', size=15)\n",
    "plt.title(r'Rectangles used in the approximation of $x^2+y^2<1$', size=15)\n",
    "plt.show()"
   ]
  }
 ],
 "metadata": {
  "kernelspec": {
   "display_name": "Python 3",
   "language": "python",
   "name": "python3"
  },
  "language_info": {
   "codemirror_mode": {
    "name": "ipython",
    "version": 3
   },
   "file_extension": ".py",
   "mimetype": "text/x-python",
   "name": "python",
   "nbconvert_exporter": "python",
   "pygments_lexer": "ipython3",
   "version": "3.8.0"
  }
 },
 "nbformat": 4,
 "nbformat_minor": 2
}
