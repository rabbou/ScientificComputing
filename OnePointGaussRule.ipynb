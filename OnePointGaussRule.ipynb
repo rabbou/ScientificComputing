{
 "cells": [
  {
   "cell_type": "markdown",
   "metadata": {},
   "source": [
    "## Ruben Abbou\n",
    "## One-Point Gauss Rule with $x^p$ weight\n",
    "This is a composite one-point Gauss rule for a variable weight function, to approximate integrals of the form $$\\int^b_af(x)w(x)dx$$\n",
    "\n",
    "with $w(x) = x^p$."
   ]
  },
  {
   "cell_type": "code",
   "execution_count": 1,
   "metadata": {},
   "outputs": [],
   "source": [
    "from numpy import arange\n",
    "from math import sqrt, sin\n",
    "from scipy.integrate import quad"
   ]
  },
  {
   "cell_type": "markdown",
   "metadata": {},
   "source": [
    "Since the one-point rule must be exact for linear functions, then we must have that \n",
    "$$ \\int_c^d x^p(x-p_g)dx = \\left [ \\frac{x^{p+2}}{p+2} - p_g\\cdot\\frac{x^{p+1}}{p+1} \\right]_c^d = \\frac{d^{p+2} - c^{p+2}}{p+2}+p_g\\cdot \\frac{c^{p+1} - d^{p+1}}{p+1} = 0 $$\n",
    "Therefore, $$p_g = \\frac{c^{p+2} - d^{p+2}}{c^{p+1} - d^{p+1}}\\cdot \\frac{p+1}{p+2}$$\n",
    "and $$w_g = \\int_c^d x^pdx = \\frac{d^{p+1}-c^{p+1}}{p+1}$$"
   ]
  },
  {
   "cell_type": "code",
   "execution_count": 2,
   "metadata": {},
   "outputs": [],
   "source": [
    "def gauss_rule(p, n, f, a=0, b=1):\n",
    "    '''\n",
    "    Calculates the Gauss Rule approximation of the integral of f on [a, b]\n",
    "    inputs:\n",
    "        - p: exponent of the weight function\n",
    "        - n: number of intervals\n",
    "        - f: function evaluated\n",
    "        - a, b: boundaries for the integral\n",
    "    output: approximation of the integral\n",
    "    '''\n",
    "    \n",
    "    assert b >= a\n",
    "    \n",
    "    # interval length\n",
    "    h = (b - a) / n\n",
    "    \n",
    "    # integral for the weight function computed analytically\n",
    "    w_g_x = lambda c, d: (d**(p+1) - c**(p+1)) / (p+1)\n",
    "    \n",
    "    # point p_g calculated as shown above\n",
    "    p_g_x = lambda c, d: (d**(p+2) - c**(p+2)) / (d**(p+1) - c**(p+1)) * (p+1) / (p+2)\n",
    "    \n",
    "    # approximation for the integral on each subinterval\n",
    "    # by summing up w_g*f(p_g) for each subinterval\n",
    "    approx = sum([(w_g_x(i, i+h)) * f(p_g_x(i, i+h)) for i in arange(a, b, h)])\n",
    "    \n",
    "    # absolute error, informational\n",
    "    error = abs(quad(lambda x: (x**p)*f(x), a, b)[0] - approx)\n",
    "    \n",
    "    print(\"The Gauss Rule approximation of f with weight x^({}) and n={} is: {:.6f} (error = {:.6f})\"\\\n",
    "          .format(p, n, approx, error))\n",
    "    return approx"
   ]
  },
  {
   "cell_type": "markdown",
   "metadata": {},
   "source": [
    "### Case $f(x) = x$ with $p=2$ and $n=5$"
   ]
  },
  {
   "cell_type": "code",
   "execution_count": 3,
   "metadata": {},
   "outputs": [],
   "source": [
    "%%capture\n",
    "f1 = lambda x: x\n",
    "p = 2\n",
    "print('True value: {:.6f}'.format(quad(lambda x: (x**p)*f1(x), 0, 1)[0]))\n",
    "gauss_rule(p, 5, f1);"
   ]
  },
  {
   "cell_type": "markdown",
   "metadata": {},
   "source": [
    "### Case $f(x) = \\sqrt{x}$ with $p=-0.5$ and $n=4,40$"
   ]
  },
  {
   "cell_type": "code",
   "execution_count": 4,
   "metadata": {},
   "outputs": [
    {
     "name": "stdout",
     "output_type": "stream",
     "text": [
      "True value: 1.0\n",
      "The Gauss Rule approximation of f with weight x^(-0.5) and n=4 is: 1.040538 (error = 0.040538)\n",
      "The Gauss Rule approximation of f with weight x^(-0.5) and n=40 is: 1.004112 (error = 0.004112)\n"
     ]
    }
   ],
   "source": [
    "f2 = lambda x: sqrt(x)\n",
    "p = -0.5\n",
    "print('True value: {}'.format(quad(lambda x: (x**p)*f2(x), 0, 1)[0]))\n",
    "gauss_rule(p, 4, f2);\n",
    "gauss_rule(p, 40, f2);"
   ]
  },
  {
   "cell_type": "markdown",
   "metadata": {},
   "source": [
    "### Case $f(x) = (1-\\sin(x))^2$ with $p=-0.5$ and $n=5, 50, 100$"
   ]
  },
  {
   "cell_type": "code",
   "execution_count": 5,
   "metadata": {},
   "outputs": [
    {
     "name": "stdout",
     "output_type": "stream",
     "text": [
      "True value: 1.0913299449592966\n",
      "The Gauss Rule approximation of f with weight x^(-0.5) and n=5 is: 1.084548 (error = 0.006782)\n",
      "The Gauss Rule approximation of f with weight x^(-0.5) and n=50 is: 1.091264 (error = 0.000066)\n",
      "The Gauss Rule approximation of f with weight x^(-0.5) and n=100 is: 1.091314 (error = 0.000016)\n"
     ]
    }
   ],
   "source": [
    "f3 = lambda x: (1-sin(x))**2\n",
    "print('True value: {}'.format(quad(lambda x: (x**p)*f3(x), 0, 1)[0]))\n",
    "gauss_rule(p, 5, f3);\n",
    "gauss_rule(p, 50, f3);\n",
    "gauss_rule(p, 100, f3);"
   ]
  },
  {
   "cell_type": "markdown",
   "metadata": {},
   "source": [
    "### Case $f(x) = \\sqrt{\\frac{x}{\\sin\\frac{x}{2}}}$ with $p=-0.5$ and $n=2,10$"
   ]
  },
  {
   "cell_type": "code",
   "execution_count": 6,
   "metadata": {},
   "outputs": [
    {
     "name": "stdout",
     "output_type": "stream",
     "text": [
      "True value: 2.8403367425033825\n",
      "The Gauss Rule approximation of f with weight x^(-0.5) and n=2 is: 2.839022 (error = 0.001314)\n",
      "The Gauss Rule approximation of f with weight x^(-0.5) and n=10 is: 2.840285 (error = 0.000051)\n"
     ]
    }
   ],
   "source": [
    "f4 = lambda x: sqrt(x/sin(x/2))\n",
    "print('True value: {}'.format(quad(lambda x: (x**p)*f4(x), 0, 1)[0]))\n",
    "gauss_rule(p, 2, f4);\n",
    "gauss_rule(p, 10, f4);"
   ]
  }
 ],
 "metadata": {
  "kernelspec": {
   "display_name": "Python 3",
   "language": "python",
   "name": "python3"
  },
  "language_info": {
   "codemirror_mode": {
    "name": "ipython",
    "version": 3
   },
   "file_extension": ".py",
   "mimetype": "text/x-python",
   "name": "python",
   "nbconvert_exporter": "python",
   "pygments_lexer": "ipython3",
   "version": "3.8.0"
  }
 },
 "nbformat": 4,
 "nbformat_minor": 2
}
